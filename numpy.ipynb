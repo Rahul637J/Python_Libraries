{
 "cells": [
  {
   "cell_type": "markdown",
   "metadata": {},
   "source": [
    "                                                                        NUMPY LIBRARY                                                                                                       "
   ]
  },
  {
   "cell_type": "markdown",
   "metadata": {},
   "source": [
    "'''<br>\n",
    "@Author: Rahul <br>\n",
    "@Date: 2024-08-13<br>\n",
    "@Last Modified by: Rahul <br>\n",
    "@Last Modified time: 2024-08-13<br>\n",
    "@Title: Python program for Numpy build-In functions <br>\n",
    "'''"
   ]
  },
  {
   "cell_type": "code",
   "execution_count": 1,
   "metadata": {},
   "outputs": [],
   "source": [
    "import numpy as np"
   ]
  },
  {
   "cell_type": "markdown",
   "metadata": {},
   "source": [
    "1. Write a Python program to convert a list of numeric value into a one-dimensional\n",
    "NumPy array."
   ]
  },
  {
   "cell_type": "code",
   "execution_count": 2,
   "metadata": {},
   "outputs": [
    {
     "name": "stdout",
     "output_type": "stream",
     "text": [
      "<class 'numpy.ndarray'>\n"
     ]
    }
   ],
   "source": [
    "\n",
    "def convert_numpy(num_list):\n",
    "\n",
    "    '''\n",
    "    Description: \n",
    "        The function converts a list of numeric values into a 1-dimensional NumPy array.\n",
    "    Parameters:\n",
    "        num_list (list): The list of numeric values to be converted.\n",
    "    Return:\n",
    "        numpy.ndarray: A 1-dimensional NumPy array containing the numeric values from the list.\n",
    "    '''\n",
    "    \n",
    "    return np.array(num_list)\n",
    "        \n",
    "def main():\n",
    "\n",
    "    num_list = [12.23, 13.32, 100, 36.32]\n",
    "    numpy_num = convert_numpy(num_list)\n",
    "    \n",
    "    print(type(numpy_num))\n",
    "    \n",
    "if __name__ == \"__main__\":\n",
    "    main()\n"
   ]
  },
  {
   "cell_type": "markdown",
   "metadata": {},
   "source": [
    "2.Create a 3x3 matrix with values ranging from 2 to 10."
   ]
  },
  {
   "cell_type": "code",
   "execution_count": 3,
   "metadata": {},
   "outputs": [
    {
     "name": "stdout",
     "output_type": "stream",
     "text": [
      "[[ 2  3  4]\n",
      " [ 5  6  7]\n",
      " [ 8  9 10]]\n"
     ]
    }
   ],
   "source": [
    "\n",
    "def create_matrix():\n",
    "          \n",
    "          '''\n",
    "          Description: \n",
    "            The function to create and print 3x3 matrix \n",
    "          Parameters:\n",
    "              none  \n",
    "          Return :\n",
    "              None\n",
    "          '''\n",
    "          \n",
    "          matrix=np.array([[2,3,4],[5,6,7],[8,9,10]])\n",
    "\n",
    "          print(matrix)\n",
    "        \n",
    "def main():\n",
    "    \n",
    "    create_matrix()\n",
    "    \n",
    "if __name__==\"__main__\":\n",
    "    main()"
   ]
  },
  {
   "cell_type": "markdown",
   "metadata": {},
   "source": [
    "3. Write a Python program to create a null vector of size 10 and update sixth value to 11."
   ]
  },
  {
   "cell_type": "code",
   "execution_count": 4,
   "metadata": {},
   "outputs": [
    {
     "name": "stdout",
     "output_type": "stream",
     "text": [
      "[ 0.  0.  0.  0.  0. 11.  0.  0.  0.  0.]\n"
     ]
    }
   ],
   "source": [
    "        \n",
    "def main():\n",
    "    \n",
    "    vector = np.zeros(10)\n",
    "    vector[5] = 11\n",
    "\n",
    "    print(vector)\n",
    "    \n",
    "if __name__==\"__main__\":\n",
    "    main()"
   ]
  },
  {
   "cell_type": "markdown",
   "metadata": {},
   "source": [
    "4. Write a Python program to reverse an array (first element becomes last)."
   ]
  },
  {
   "cell_type": "code",
   "execution_count": 5,
   "metadata": {},
   "outputs": [
    {
     "name": "stdout",
     "output_type": "stream",
     "text": [
      "[36 35 34 33 32 31 30 29 28 27 26 25 24 23 22 21 20 19 18 17 16 15 14 13\n",
      " 12]\n"
     ]
    }
   ],
   "source": [
    "\n",
    "def reverse_array(arr1):\n",
    "    \n",
    "    '''\n",
    "    Description: \n",
    "        The function reverses the elements of a 1D NumPy array.\n",
    "    Parameters:\n",
    "        arr1 (numpy.ndarray): A 1D NumPy array to be reversed.\n",
    "    Return:\n",
    "        numpy.ndarray: A new 1D NumPy array with the elements in reverse order.\n",
    "    '''\n",
    "    \n",
    "    return arr1[::-1]\n",
    "        \n",
    "def main():\n",
    "\n",
    "    arr1 = np.array([12, 13, 14, 15, 16, 17, 18, 19, 20, 21, 22, 23, 24, 25, 26, 27, 28, 29, 30, 31, 32, 33, 34, 35, 36])\n",
    "    result_arr = reverse_array(arr1)\n",
    "    \n",
    "    print(result_arr)\n",
    "    \n",
    "if __name__ == \"__main__\":\n",
    "    main()\n"
   ]
  },
  {
   "cell_type": "markdown",
   "metadata": {},
   "source": [
    "5. Write a Python program to create a 2d array with 1 on the border and 0 inside."
   ]
  },
  {
   "cell_type": "code",
   "execution_count": 6,
   "metadata": {},
   "outputs": [
    {
     "name": "stdout",
     "output_type": "stream",
     "text": [
      "Original array: \n",
      " [[1. 1. 1. 1. 1.]\n",
      " [1. 1. 1. 1. 1.]\n",
      " [1. 1. 1. 1. 1.]\n",
      " [1. 1. 1. 1. 1.]\n",
      " [1. 1. 1. 1. 1.]]\n",
      "Array after conversion: \n",
      " [[1. 1. 1. 1. 1.]\n",
      " [1. 0. 0. 0. 1.]\n",
      " [1. 0. 0. 0. 1.]\n",
      " [1. 0. 0. 0. 1.]\n",
      " [1. 1. 1. 1. 1.]]\n"
     ]
    }
   ],
   "source": [
    "\n",
    "def to_zero(input_array):\n",
    "    \n",
    "    '''\n",
    "    Description: \n",
    "        The function takes a 2D NumPy array filled with ones and modifies it so that all elements inside the border are set to zero, \n",
    "        leaving the border elements as ones.\n",
    "    Parameters:\n",
    "        input_array (numpy.ndarray): A 2D NumPy array where the border elements will remain as ones and the inner elements will be set to zero.\n",
    "    Return:\n",
    "        numpy.ndarray: The modified 2D NumPy array with ones on the border and zeros inside.\n",
    "    '''\n",
    "    \n",
    "    input_array[1:-1, 1:-1] = 0\n",
    "    return input_array\n",
    "          \n",
    "def main():\n",
    "    input_array = np.array([[1., 1., 1., 1., 1.],\n",
    "                            [1., 1., 1., 1., 1.],\n",
    "                            [1., 1., 1., 1., 1.],\n",
    "                            [1., 1., 1., 1., 1.],\n",
    "                            [1., 1., 1., 1., 1.]])\n",
    "    \n",
    "    print(\"Original array: \\n\", input_array)\n",
    "    print(\"Array after conversion: \\n\", to_zero(input_array))\n",
    "    \n",
    "if __name__ == \"__main__\":\n",
    "    main()"
   ]
  },
  {
   "cell_type": "markdown",
   "metadata": {},
   "source": [
    "6.Write a Python program to add a border (filled with 0's) around an existing array."
   ]
  },
  {
   "cell_type": "code",
   "execution_count": 7,
   "metadata": {},
   "outputs": [
    {
     "name": "stdout",
     "output_type": "stream",
     "text": [
      "Original Array\n",
      " [[1 1 1]\n",
      " [1 1 1]\n",
      " [1 1 1]]\n",
      "Array with Border\n",
      " [[0. 0. 0. 0. 0.]\n",
      " [0. 1. 1. 1. 0.]\n",
      " [0. 1. 1. 1. 0.]\n",
      " [0. 1. 1. 1. 0.]\n",
      " [0. 0. 0. 0. 0.]]\n"
     ]
    }
   ],
   "source": [
    "\n",
    "def add_border(input_array1):\n",
    "\n",
    "    '''\n",
    "    Description: \n",
    "        The function adds a border of zeros around an existing NumPy array.\n",
    "    Parameters:\n",
    "        input_array1 (numpy.ndarray): The original 2D NumPy array to which the border will be added.\n",
    "    Return:\n",
    "        numpy.ndarray: A new NumPy array with a border of zeros added around the original array.\n",
    "    '''\n",
    "    \n",
    "    result_arr = np.zeros((len(input_array1) + 2, len(input_array1[0]) + 2))\n",
    "    result_arr[1:-1, 1:-1] = input_array1\n",
    "    \n",
    "    return result_arr\n",
    "\n",
    "def main():\n",
    "\n",
    "    input_array1 = np.array([[1, 1, 1],\n",
    "                             [1, 1, 1],\n",
    "                             [1, 1, 1]])\n",
    "    \n",
    "    print(\"Original Array\\n\", input_array1)\n",
    "    \n",
    "    result_arr = add_border(input_array1)\n",
    "    print(\"Array with Border\\n\", result_arr)\n",
    "    \n",
    "if __name__ == \"__main__\":\n",
    "    main()\n"
   ]
  },
  {
   "cell_type": "markdown",
   "metadata": {},
   "source": [
    "7. Write a Python program to create a 8x8 matrix and fill it with a checkerboard pattern."
   ]
  },
  {
   "cell_type": "code",
   "execution_count": 8,
   "metadata": {},
   "outputs": [
    {
     "name": "stdout",
     "output_type": "stream",
     "text": [
      "[[0 1 0 1 0 1 0 1]\n",
      " [1 0 1 0 1 0 1 0]\n",
      " [0 1 0 1 0 1 0 1]\n",
      " [1 0 1 0 1 0 1 0]\n",
      " [0 1 0 1 0 1 0 1]\n",
      " [1 0 1 0 1 0 1 0]\n",
      " [0 1 0 1 0 1 0 1]\n",
      " [1 0 1 0 1 0 1 0]]\n"
     ]
    }
   ],
   "source": [
    "\n",
    "def check_board():\n",
    "\n",
    "    '''\n",
    "    Description: \n",
    "        The function creates an 8x8 matrix and fills it with a checkerboard pattern,\n",
    "        where 1s and 0s alternate across the matrix.\n",
    "    Parameters:\n",
    "        None  \n",
    "    Return:\n",
    "        None\n",
    "    '''\n",
    "    \n",
    "    checkBoard = np.zeros((8, 8), dtype=int)\n",
    "    checkBoard[1::2, ::2] = 1  \n",
    "    checkBoard[::2, 1::2] = 1\n",
    "    \n",
    "    print(checkBoard)\n",
    "        \n",
    "def main():\n",
    "    check_board()\n",
    "    \n",
    "if __name__ == \"__main__\":\n",
    "    main()"
   ]
  },
  {
   "cell_type": "markdown",
   "metadata": {},
   "source": [
    "9. Write a Python program to append values to the end of an array."
   ]
  },
  {
   "cell_type": "code",
   "execution_count": 9,
   "metadata": {},
   "outputs": [
    {
     "name": "stdout",
     "output_type": "stream",
     "text": [
      "[10 20 30 40 50 60]\n"
     ]
    }
   ],
   "source": [
    "\n",
    "def append_array(num_arr, list_nums):\n",
    "\n",
    "    '''\n",
    "    Description: \n",
    "        The function appends values from a list to the end of a NumPy array and returns the resulting array.\n",
    "    Parameters:\n",
    "        num_arr (numpy.ndarray): The original NumPy array to which values will be appended.\n",
    "        list_nums (list or numpy.ndarray): A list or array of numbers to append to the end of `num_arr`.\n",
    "    Return:\n",
    "        numpy.ndarray: A new NumPy array with the values from `list_nums` appended to `num_arr`.\n",
    "    '''\n",
    "    \n",
    "    return np.append(num_arr, list_nums)\n",
    "        \n",
    "def main():\n",
    "    \n",
    "    num_arr = np.array([10, 20, 30])\n",
    "    list_nums = [40, 50, 60]\n",
    "    print(append_array(num_arr, list_nums))\n",
    "\n",
    "if __name__ == \"__main__\":\n",
    "    main()"
   ]
  },
  {
   "cell_type": "markdown",
   "metadata": {},
   "source": [
    "10. Write a Python program to find the real and imaginary parts of an array of complex\n",
    "numbers."
   ]
  },
  {
   "cell_type": "code",
   "execution_count": 10,
   "metadata": {},
   "outputs": [
    {
     "name": "stdout",
     "output_type": "stream",
     "text": [
      "Real parts: [1.         0.70710678]\n",
      "Imaginary parts: [0.         0.70710678]\n"
     ]
    }
   ],
   "source": [
    "\n",
    "def find_real_and_imaginary(num_arr):\n",
    "\n",
    "    '''\n",
    "    Description: \n",
    "        The function takes an array of complex numbers and returns two arrays: \n",
    "        one containing the real parts and the other containing the imaginary parts of the input array.\n",
    "    Parameters:\n",
    "        num_arr (numpy.ndarray): The array of complex numbers.\n",
    "    Return:\n",
    "        tuple: A tuple containing:\n",
    "            - real_arr (numpy.ndarray): An array of the real parts of the complex numbers.\n",
    "            - img_arr (numpy.ndarray): An array of the imaginary parts of the complex numbers.\n",
    "    '''\n",
    "    \n",
    "    real_arr = np.real(num_arr)\n",
    "    img_arr = np.imag(num_arr)\n",
    "    return real_arr, img_arr\n",
    "        \n",
    "def main():\n",
    "    \n",
    "    num_arr = np.array([1.00000000+0.j, 0.70710678+0.70710678j])\n",
    "    real_num, imag_num = find_real_and_imaginary(num_arr)\n",
    "\n",
    "    print(\"Real parts:\", real_num)\n",
    "    print(\"Imaginary parts:\", imag_num)\n",
    "    \n",
    "if __name__ == \"__main__\":\n",
    "    main()"
   ]
  },
  {
   "cell_type": "markdown",
   "metadata": {},
   "source": [
    "11. Write a Python program to find the number of elements of an array, length of one\n",
    "array element in bytes and total bytes consumed by the elements."
   ]
  },
  {
   "cell_type": "code",
   "execution_count": 11,
   "metadata": {},
   "outputs": [
    {
     "name": "stdout",
     "output_type": "stream",
     "text": [
      "Size of the array: 3\n",
      "Length of one array element in bytes: 8\n",
      "Total bytes consumed by the elements of the array: 24\n"
     ]
    }
   ],
   "source": [
    "\n",
    "def find_size_in_bytes(num_arr):\n",
    "\n",
    "    '''\n",
    "    Description: \n",
    "        The function calculates the number of elements in a NumPy array, the size of one element in bytes, \n",
    "        and the total bytes consumed by all elements of the array.\n",
    "    Parameters:\n",
    "        num_arr (numpy.ndarray): The NumPy array for which the size information is to be computed.\n",
    "    Return:\n",
    "        tuple: A tuple containing:\n",
    "            - size_of_array (int): The number of elements in the array.\n",
    "            - length_of_array (int): The length of one array element in bytes.\n",
    "            - total_bytes (int): The total bytes consumed by the elements of the array.\n",
    "    '''\n",
    "    \n",
    "    size_of_array = num_arr.size\n",
    "    length_of_array = num_arr.itemsize\n",
    "    total_bytes = num_arr.nbytes\n",
    "    return size_of_array, length_of_array, total_bytes\n",
    "        \n",
    "def main():\n",
    "    \n",
    "    num_arr = np.array([1, 2, 3])\n",
    "    size_of_array, length_of_array, total_bytes = find_size_in_bytes(num_arr)\n",
    "\n",
    "    print(\"Size of the array:\", size_of_array)\n",
    "    print(\"Length of one array element in bytes:\", length_of_array)\n",
    "    print(\"Total bytes consumed by the elements of the array:\", total_bytes)\n",
    "    \n",
    "    \n",
    "if __name__ == \"__main__\":\n",
    "    main()\n"
   ]
  },
  {
   "cell_type": "markdown",
   "metadata": {},
   "source": [
    "12. Write a Python program to find common values between two arrays."
   ]
  },
  {
   "cell_type": "code",
   "execution_count": 12,
   "metadata": {},
   "outputs": [
    {
     "name": "stdout",
     "output_type": "stream",
     "text": [
      "[10]\n"
     ]
    }
   ],
   "source": [
    "\n",
    "def find_common(arr1, arr2):\n",
    "\n",
    "    '''\n",
    "    Description: \n",
    "        The function finds the common values between two NumPy arrays. \n",
    "        It returns the sorted, unique values that are present in both `arr1` and `arr2`.\n",
    "    Parameters:\n",
    "        arr1 (numpy.ndarray): The first NumPy array for comparison.\n",
    "        arr2 (numpy.ndarray): The second NumPy array for comparison.\n",
    "    Return:\n",
    "        numpy.ndarray: An array containing the sorted, unique values that are common to both `arr1` and `arr2`.\n",
    "    '''\n",
    "    \n",
    "    return np.intersect1d(arr1, arr2)\n",
    "        \n",
    "def main():\n",
    "\n",
    "    arr1 = np.array([10, 20, 30])\n",
    "    arr2 = np.array([10, 40, 50])\n",
    "    common_items = find_common(arr1, arr2)\n",
    "    \n",
    "    print(common_items)\n",
    "\n",
    "if __name__ == \"__main__\":\n",
    "    main()"
   ]
  },
  {
   "cell_type": "markdown",
   "metadata": {},
   "source": [
    "13. Write a Python program to find the set difference of two arrays. The set difference\n",
    "will return the sorted, unique values in array1 that are not in array2."
   ]
  },
  {
   "cell_type": "code",
   "execution_count": 13,
   "metadata": {},
   "outputs": [
    {
     "name": "stdout",
     "output_type": "stream",
     "text": [
      "[20 30]\n"
     ]
    }
   ],
   "source": [
    "\n",
    "def find_difference(arr1, arr2):\n",
    "\n",
    "    '''\n",
    "    Description: \n",
    "        The function finds the set difference between two NumPy arrays. \n",
    "        It returns the sorted, unique values in `arr1` that are not present in `arr2`.\n",
    "    Parameters:\n",
    "        arr1 (numpy.ndarray): The first NumPy array from which elements are selected.\n",
    "        arr2 (numpy.ndarray): The second NumPy array used to exclude elements from `arr1`.\n",
    "    Return:\n",
    "        numpy.ndarray: An array containing the sorted, unique values that are in `arr1` but not in `arr2`.\n",
    "    '''\n",
    "    \n",
    "    return np.setdiff1d(arr1, arr2)\n",
    "        \n",
    "        \n",
    "def main():\n",
    "\n",
    "    arr1 = np.array([10, 20, 30])\n",
    "    arr2 = np.array([10, 40, 50])\n",
    "    \n",
    "    print(find_difference(arr1, arr2))\n",
    "    \n",
    "if __name__ == \"__main__\":\n",
    "    main()"
   ]
  },
  {
   "cell_type": "markdown",
   "metadata": {},
   "source": [
    "14. Write a Python program to find the set exclusive-or of two arrays. Set exclusive-or\n",
    "will return the sorted, unique values that are in only one (not both) of the input arrays."
   ]
  },
  {
   "cell_type": "code",
   "execution_count": 14,
   "metadata": {},
   "outputs": [
    {
     "name": "stdout",
     "output_type": "stream",
     "text": [
      "[ 0 20 30 50 60 70 80]\n"
     ]
    }
   ],
   "source": [
    "\n",
    "def set_or_difference(array1, array2):\n",
    "\n",
    "    '''\n",
    "    Description: \n",
    "        The function finds the set exclusive-or (symmetric difference) of two NumPy arrays. \n",
    "        It returns the sorted, unique values that are in only one of the input arrays, but not in both.\n",
    "    Parameters:\n",
    "        array1 (numpy.ndarray): The first NumPy array for comparison.\n",
    "        array2 (numpy.ndarray): The second NumPy array for comparison.\n",
    "    Return:\n",
    "        numpy.ndarray: An array containing the sorted, unique values that are in only one of the input arrays.\n",
    "    '''\n",
    "    \n",
    "    return np.setxor1d(array1, array2)\n",
    "        \n",
    "def main():\n",
    "\n",
    "    array1 = np.array([0, 10, 20, 40, 60, 80])\n",
    "    array2 = np.array([10, 30, 40, 50, 70])\n",
    "    \n",
    "    print(set_or_difference(array1, array2))\n",
    "    \n",
    "if __name__ == \"__main__\":\n",
    "    main()"
   ]
  },
  {
   "cell_type": "markdown",
   "metadata": {},
   "source": [
    "15. Write a Python program compare two arrays using numpy."
   ]
  },
  {
   "cell_type": "code",
   "execution_count": 15,
   "metadata": {},
   "outputs": [
    {
     "name": "stdout",
     "output_type": "stream",
     "text": [
      "Greater than : [False False  True False  True]\n",
      "Greater than or equal : [ True  True  True  True  True]\n",
      "Lesser than : [False False False False False]\n",
      "equals : [ True  True False  True False]\n"
     ]
    }
   ],
   "source": [
    "\n",
    "def compare_Two_arrays(array1, array2):\n",
    "\n",
    "    '''\n",
    "    Description: \n",
    "        The function compares two NumPy arrays element-wise and prints the results of \n",
    "        various comparison operations (greater than, greater than or equal to, less than, and equal to).\n",
    "    Parameters:\n",
    "        array1 (numpy.ndarray): The first NumPy array for comparison.\n",
    "        array2 (numpy.ndarray): The second NumPy array for comparison.\n",
    "    Return:\n",
    "        None\n",
    "    '''\n",
    "    \n",
    "    print(\"Greater than :\",array1 > array2)\n",
    "    print(\"Greater than or equal :\",array1 >= array2)\n",
    "    print(\"Lesser than :\",array1 < array2)\n",
    "    print(\"equals :\",array1 == array2)\n",
    "\n",
    "def main():\n",
    "\n",
    "    array1 = np.array([1, 2, 3, 4, 5])\n",
    "    array2 = np.array([1, 2, 0, 4, 0])\n",
    "    \n",
    "    compare_Two_arrays(array1, array2)\n",
    "    \n",
    "if __name__ == \"__main__\":\n",
    "    main()"
   ]
  },
  {
   "cell_type": "markdown",
   "metadata": {},
   "source": [
    "16. Write a Python program to save a NumPy array to a text file."
   ]
  },
  {
   "cell_type": "code",
   "execution_count": 29,
   "metadata": {},
   "outputs": [],
   "source": [
    "\n",
    "def write_in_file(num_array):\n",
    "\n",
    "    '''\n",
    "    Description: \n",
    "        The function saves a given NumPy array to a text file and then reads the file to display its content.\n",
    "    Parameters:\n",
    "        num_array (numpy.ndarray): The NumPy array to be saved to the file.\n",
    "    Return:\n",
    "        None\n",
    "    '''\n",
    "\n",
    "    # file_path = \"C:/Users/rahul/Desktop/Python Libraries/ArrayList.txt\"\n",
    "    \n",
    "    # Write to the file\n",
    "    # with open(file_path, 'w') as file:\n",
    "    #     file.write(str(num_array))\n",
    "    \n",
    "    # Read from the file and print the content\n",
    "    # with open(file_path, 'r') as file:\n",
    "    #     content = file.read()\n",
    "    #     print(content)\n",
    "\n",
    "    #Using savetxt in numpy\n",
    "    np.savetxt(\"ArrayList.txt\",num_array,fmt=\"%d\") \n",
    "          \n",
    "def main():\n",
    "\n",
    "    num_array = np.array([1, 2, 3, 4, 5])\n",
    "    write_in_file(num_array)\n",
    "    \n",
    "if __name__==\"__main__\":\n",
    "    main()"
   ]
  },
  {
   "cell_type": "markdown",
   "metadata": {},
   "source": [
    "17. Write a Python program to create a contiguous flattened array."
   ]
  },
  {
   "cell_type": "code",
   "execution_count": 17,
   "metadata": {},
   "outputs": [
    {
     "name": "stdout",
     "output_type": "stream",
     "text": [
      "[1 2 3 4 5 1 2 0 4 0]\n"
     ]
    }
   ],
   "source": [
    "\n",
    "def re_shape(array1):\n",
    "\n",
    "    '''\n",
    "    Description: \n",
    "        The function reshapes a given multi-dimensional Numpy array into a \n",
    "        1-dimensional contiguous flattened array.\n",
    "    Parameters:\n",
    "        array1 (numpy.ndarray): The multi-dimensional Numpy array to be flattened.\n",
    "    Return:\n",
    "        numpy.ndarray: A 1-dimensional flattened Numpy array.\n",
    "    '''\n",
    "    \n",
    "    return array1.reshape(-1)\n",
    "\n",
    "def main():\n",
    "    \n",
    "    array1 = np.array([[1, 2, 3, 4, 5], [1, 2, 0, 4, 0]])\n",
    "    print(re_shape(array1))\n",
    "    \n",
    "if __name__==\"__main__\":\n",
    "    main()"
   ]
  },
  {
   "cell_type": "markdown",
   "metadata": {},
   "source": [
    "18. Write a Python program to change the data type of an array."
   ]
  },
  {
   "cell_type": "code",
   "execution_count": 18,
   "metadata": {},
   "outputs": [
    {
     "name": "stdout",
     "output_type": "stream",
     "text": [
      "Before Converting: [1. 2. 3. 4. 5.]\n",
      "After Converting: ['1.0' '2.0' '3.0' '4.0' '5.0']\n"
     ]
    }
   ],
   "source": [
    "\n",
    "def convert_datatype(array1):\n",
    "\n",
    "    '''\n",
    "    Description: \n",
    "        The function converts the data type of the given Numpy array to a specified type.\n",
    "    Parameters:\n",
    "        array1 (numpy.ndarray): The Numpy array whose data type needs to be changed.\n",
    "    Return:\n",
    "        numpy.ndarray: A new Numpy array with the data type converted to string.\n",
    "    '''\n",
    "    \n",
    "    return np.array(array1, dtype=str)\n",
    "\n",
    "def main():\n",
    "\n",
    "    array1 = np.array([1, 2, 3, 4, 5], dtype=float)\n",
    "    \n",
    "    print(\"Before Converting:\", array1)\n",
    "    print(\"After Converting:\", convert_datatype(array1))\n",
    "    \n",
    "if __name__==\"__main__\":\n",
    "    main()"
   ]
  },
  {
   "cell_type": "markdown",
   "metadata": {},
   "source": [
    "19. Write a Python program to create a 3-D array with ones on a diagonal and zeros\n",
    "elsewhere."
   ]
  },
  {
   "cell_type": "code",
   "execution_count": 19,
   "metadata": {},
   "outputs": [
    {
     "name": "stdout",
     "output_type": "stream",
     "text": [
      "[[1 0 0]\n",
      " [0 1 0]\n",
      " [0 0 1]]\n"
     ]
    }
   ],
   "source": [
    "\n",
    "def create_digonal():\n",
    "\n",
    "    '''\n",
    "    Description: \n",
    "        The function creates a 2-dimensional Numpy array (matrix) of shape (3, 3) \n",
    "        with ones on the diagonal and zeros elsewhere.\n",
    "    Parameters:\n",
    "        None\n",
    "    Return:\n",
    "        numpy.ndarray: A 2D Numpy array with ones on the diagonal and zeros elsewhere.\n",
    "    '''\n",
    "    \n",
    "    matrix = np.zeros((3,3), dtype=int)\n",
    "    for i in range(0,3):\n",
    "        matrix[i, i] = 1\n",
    "    return matrix\n",
    "\n",
    "def main():\n",
    "    \n",
    "    print(create_digonal())\n",
    "    \n",
    "if __name__==\"__main__\":\n",
    "    main()\n"
   ]
  },
  {
   "cell_type": "markdown",
   "metadata": {},
   "source": [
    "19. Write a Python program to create an array which looks like below array.\n",
    "Expected Output:\n",
    "[[ 0. 0. 0.]\n",
    "[ 1. 0. 0.]\n",
    "[ 1. 1. 0.]\n",
    "[ 1. 1. 1.]]"
   ]
  },
  {
   "cell_type": "code",
   "execution_count": 20,
   "metadata": {},
   "outputs": [
    {
     "name": "stdout",
     "output_type": "stream",
     "text": [
      "[[0 0 0]\n",
      " [1 0 0]\n",
      " [1 1 0]\n",
      " [1 1 1]]\n"
     ]
    }
   ],
   "source": [
    "\n",
    "def create_diagonal():\n",
    "    \n",
    "    '''\n",
    "    Description: \n",
    "        Creates a 4x3 NumPy array with a specific pattern where each row i contains i ones at the beginning.\n",
    "    Parameters:\n",
    "        None\n",
    "    Return:\n",
    "        None\n",
    "    '''\n",
    "    matrix = np.zeros((4, 3), dtype=int)\n",
    "    for i in range(1, 4):\n",
    "        for j in range(i):\n",
    "            matrix[i, j] = 1\n",
    "    print(matrix)\n",
    "\n",
    "def main():\n",
    "    create_diagonal()\n",
    "    \n",
    "if __name__ == \"__main__\":\n",
    "    main()\n"
   ]
  },
  {
   "cell_type": "markdown",
   "metadata": {},
   "source": [
    "21. Write a Python program to concatenate two 2-dimensional arrays.\n",
    "Sample arrays: ([[0, 1, 3], [5, 7, 9]], [[0, 2, 4], [6, 8, 10]])"
   ]
  },
  {
   "cell_type": "code",
   "execution_count": 21,
   "metadata": {},
   "outputs": [
    {
     "name": "stdout",
     "output_type": "stream",
     "text": [
      "[[ 0  1  3  0  2  4]\n",
      " [ 5  7  9  6  8 10]]\n"
     ]
    }
   ],
   "source": [
    "\n",
    "def merge_array(sample_array):\n",
    "\n",
    "    '''\n",
    "    Description: \n",
    "        Concatenates two 2-dimensional arrays along their common axis, transposes the resulting array,\n",
    "        and reshapes it for output.\n",
    "    Parameters:\n",
    "        sample_array (numpy.ndarray): A 3-dimensional NumPy array where each 2-dimensional sub-array\n",
    "                                      represents the arrays to be concatenated.\n",
    "    Return:\n",
    "        None\n",
    "    '''\n",
    "    output_array = sample_array.transpose(1, 0, 2)\n",
    "    output_array = output_array.reshape(2, -1)\n",
    "\n",
    "    print(output_array)      \n",
    "\n",
    "def main():\n",
    "\n",
    "    sample_arrays = np.array([[[0, 1, 3], [5, 7, 9]], \n",
    "                              [[0, 2, 4], [6, 8, 10]]])\n",
    "    \n",
    "    merge_array(sample_arrays)\n",
    "    \n",
    "if __name__ == \"__main__\":\n",
    "    main()"
   ]
  },
  {
   "cell_type": "markdown",
   "metadata": {},
   "source": [
    "22. Write a Python program to make an array immutable (read-only)."
   ]
  },
  {
   "cell_type": "code",
   "execution_count": 22,
   "metadata": {},
   "outputs": [
    {
     "name": "stdout",
     "output_type": "stream",
     "text": [
      "The input_array is in Read-Only mode\n"
     ]
    }
   ],
   "source": [
    "\n",
    "def make_immutable(input_array):\n",
    "\n",
    "    '''\n",
    "    Description: \n",
    "        Makes a NumPy array immutable (read-only) by setting its writeable flag to False.\n",
    "    Parameters:\n",
    "        input_array (numpy.ndarray): The NumPy array to be made immutable.\n",
    "    Return:\n",
    "        numpy.ndarray: The same NumPy array with its writeable flag set to False.\n",
    "    '''\n",
    "\n",
    "    input_array.flags.writeable = False   \n",
    "    return input_array\n",
    "\n",
    "def main():\n",
    "\n",
    "    input_array = np.array([1, 2, 3, 4])\n",
    "    immutable_array = make_immutable(input_array)\n",
    "\n",
    "    try:\n",
    "        immutable_array[0] = 10\n",
    "        \n",
    "    except ValueError as e:  # Changed to ValueError as this is the correct exception\n",
    "        print(\"The input_array is in Read-Only mode\")\n",
    "\n",
    "if __name__ == \"__main__\":\n",
    "    main()"
   ]
  },
  {
   "cell_type": "markdown",
   "metadata": {},
   "source": [
    "23. Write a Python program to create an array of (3, 4) shape, multiply every element\n",
    "value by 3 and display the new array."
   ]
  },
  {
   "cell_type": "code",
   "execution_count": 23,
   "metadata": {},
   "outputs": [
    {
     "name": "stdout",
     "output_type": "stream",
     "text": [
      "[[ 0  3  6  9]\n",
      " [12 15 18 21]\n",
      " [24 27 30 33]]\n"
     ]
    }
   ],
   "source": [
    "\n",
    "def create_array():\n",
    "\n",
    "    '''\n",
    "    Description: \n",
    "        Creates a NumPy array of shape (3, 4), fills it with sequential values, multiplies each element by 3, and prints the resulting array.\n",
    "    Parameters:\n",
    "        None\n",
    "    Return:\n",
    "        None\n",
    "    '''\n",
    "\n",
    "    count = 0\n",
    "    multiple_Of_Three = np.ones([3, 4], dtype=int)\n",
    "\n",
    "    for i in range(3):  \n",
    "        for j in range(4):   \n",
    "            multiple_Of_Three[i, j] = count\n",
    "            count += 1\n",
    "\n",
    "    multiple_Of_Three *= 3  \n",
    "    \n",
    "    print(multiple_Of_Three)\n",
    "\n",
    "def main():\n",
    "    create_array()\n",
    "    \n",
    "if __name__ == \"__main__\":\n",
    "    main()\n"
   ]
  },
  {
   "cell_type": "markdown",
   "metadata": {},
   "source": [
    "24. Write a Python program to convert a NumPy array into Python list structure."
   ]
  },
  {
   "cell_type": "code",
   "execution_count": 24,
   "metadata": {},
   "outputs": [
    {
     "name": "stdout",
     "output_type": "stream",
     "text": [
      "[[0, 1], [2, 3], [4, 5]]\n"
     ]
    }
   ],
   "source": [
    "\n",
    "def to_list(arr1):\n",
    "\n",
    "    '''\n",
    "    Description: \n",
    "        Converts a 2-dimensional NumPy array into a Python list of lists.\n",
    "    Parameters:\n",
    "        arr1 (numpy.ndarray): A 2-dimensional NumPy array.\n",
    "    Return:\n",
    "        List[List]: A list of lists where each sub-list corresponds to a row in the original NumPy array.\n",
    "    '''\n",
    "\n",
    "    num_list = []\n",
    "\n",
    "    for row in arr1:\n",
    "        num_list.append(row.tolist())  # Converting each row to a list\n",
    "    \n",
    "    return num_list\n",
    "\n",
    "def main():\n",
    "    \n",
    "    arr1 = np.array([[0, 1],\n",
    "                     [2, 3],\n",
    "                     [4, 5]])\n",
    "    \n",
    "    print(to_list(arr1))  # This will print <class 'list'>\n",
    "    \n",
    "if __name__ == \"__main__\":\n",
    "    main()\n"
   ]
  },
  {
   "cell_type": "markdown",
   "metadata": {},
   "source": [
    "25. Write a Python program to convert a NumPy array into Python list structure."
   ]
  },
  {
   "cell_type": "code",
   "execution_count": 25,
   "metadata": {},
   "outputs": [
    {
     "name": "stdout",
     "output_type": "stream",
     "text": [
      "[0.262, 0.528, 0.572, 0.593, 0.783, 0.697, 0.354, 0.995, 0.069, 0.547]\n"
     ]
    }
   ],
   "source": [
    "\n",
    "def to_list(arr1):\n",
    "    \n",
    "    '''\n",
    "    Description: \n",
    "        Converts a 1-dimensional NumPy array into a Python list with each element rounded to 3 decimal places.\n",
    "    Parameters:\n",
    "        arr1 (numpy.ndarray): A 1-dimensional NumPy array.\n",
    "    Return:\n",
    "        List[float]: A list of floats where each element is rounded to 3 decimal places.\n",
    "    '''\n",
    "    num_list = []\n",
    "    for element in arr1:\n",
    "        num_list.append(float(round(element, 3)))\n",
    "    \n",
    "    return num_list\n",
    "\n",
    "def main():\n",
    "    arr1 = np.array([0.26153123, 0.52760141, 0.5718299, 0.5927067, 0.7831874, \n",
    "                     0.69746349, 0.35399976, 0.99469633, 0.0694458, 0.54711478])\n",
    "    print(to_list(arr1))\n",
    "    \n",
    "if __name__ == \"__main__\":\n",
    "    main()"
   ]
  },
  {
   "cell_type": "markdown",
   "metadata": {},
   "source": [
    "26. Write a Python program to suppresses the use of scientific notation for small\n",
    "numbers in numpy array."
   ]
  },
  {
   "cell_type": "code",
   "execution_count": 26,
   "metadata": {},
   "outputs": [
    {
     "name": "stdout",
     "output_type": "stream",
     "text": [
      "[ 0.000 1.600 1200.000 0.235 ]\n"
     ]
    }
   ],
   "source": [
    "\n",
    "def suppresses_array(arr1):\n",
    "    '''\n",
    "    Description: \n",
    "        Suppresses the use of scientific notation for small numbers in a NumPy array and sets the precision for printed output.\n",
    "    Parameters:\n",
    "        arr1 (numpy.ndarray): The NumPy array whose elements' scientific notation is to be suppressed.\n",
    "    Return:\n",
    "        numpy.ndarray: The original NumPy array with scientific notation suppressed for printing.\n",
    "    '''\n",
    "    np.set_printoptions(suppress=True, precision=3)\n",
    "    return arr1\n",
    "\n",
    "def main():\n",
    "    arr1 = np.array([1.60000000e-10, 1.60000000e+00, 1.20000000e+03, 2.35000000e-01])\n",
    "    arr = suppresses_array(arr1)\n",
    "    print(\"[\", \" \".join(format(x, \".3f\") for x in arr), \"]\")\n",
    "    \n",
    "if __name__ == \"__main__\":\n",
    "    main()"
   ]
  },
  {
   "cell_type": "markdown",
   "metadata": {},
   "source": [
    "27. Write a Python program to how to add an extra column to an numpy array."
   ]
  },
  {
   "cell_type": "code",
   "execution_count": 27,
   "metadata": {},
   "outputs": [
    {
     "name": "stdout",
     "output_type": "stream",
     "text": [
      "[[ 10  20  30 100]\n",
      " [ 40  50  60 200]]\n"
     ]
    }
   ],
   "source": [
    "\n",
    "def add_column(arr1, new_column):\n",
    "    '''\n",
    "    Description: \n",
    "        Adds a new column to a 2-dimensional NumPy array.\n",
    "    Parameters:\n",
    "        arr1 (numpy.ndarray): The original 2-dimensional NumPy array.\n",
    "        new_column (numpy.ndarray): The new column to be added as a 2-dimensional array.\n",
    "    Return:\n",
    "        numpy.ndarray: A new NumPy array with the extra column added.\n",
    "    '''\n",
    "    return np.column_stack((arr1, new_column))\n",
    "\n",
    "def main():\n",
    "    arr1 = np.array([[10, 20, 30],\n",
    "                     [40, 50, 60]])\n",
    "    new_column = np.array([[100], [200]])\n",
    "    print(add_column(arr1, new_column))\n",
    "    \n",
    "if __name__ == \"__main__\":\n",
    "    main()"
   ]
  },
  {
   "cell_type": "markdown",
   "metadata": {},
   "source": [
    "28. Write a Python program to remove specific elements in a numpy array."
   ]
  },
  {
   "cell_type": "code",
   "execution_count": 28,
   "metadata": {},
   "outputs": [
    {
     "name": "stdout",
     "output_type": "stream",
     "text": [
      "[ 20  30  60  70  80  90 100]\n"
     ]
    }
   ],
   "source": [
    "\n",
    "def remove_element(arr1, positions):\n",
    "    '''\n",
    "    Description: \n",
    "        Removes specific elements from a 1-dimensional NumPy array based on given indices.\n",
    "    Parameters:\n",
    "        arr1 (numpy.ndarray): The original 1-dimensional NumPy array.\n",
    "        positions (List[int]): A list of indices corresponding to the elements to be removed.\n",
    "    Return:\n",
    "        numpy.ndarray: A new NumPy array with the specified elements removed.\n",
    "    '''\n",
    "    return np.delete(arr1, positions)\n",
    "\n",
    "def main():\n",
    "    arr1 = np.array([10, 20, 30, 40, 50, 60, 70, 80, 90, 100])\n",
    "    indices_to_delete = [0, 3, 4]\n",
    "    print(remove_element(arr1, indices_to_delete))\n",
    "\n",
    "if __name__ == \"__main__\":\n",
    "    main()"
   ]
  }
 ],
 "metadata": {
  "kernelspec": {
   "display_name": "Python 3",
   "language": "python",
   "name": "python3"
  },
  "language_info": {
   "codemirror_mode": {
    "name": "ipython",
    "version": 3
   },
   "file_extension": ".py",
   "mimetype": "text/x-python",
   "name": "python",
   "nbconvert_exporter": "python",
   "pygments_lexer": "ipython3",
   "version": "3.12.4"
  }
 },
 "nbformat": 4,
 "nbformat_minor": 2
}
